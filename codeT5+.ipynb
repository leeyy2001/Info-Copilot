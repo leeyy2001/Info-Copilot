{
 "cells": [
  {
   "cell_type": "code",
   "execution_count": 4,
   "id": "d67e7960-c239-4a4b-a951-636dae3b01ed",
   "metadata": {
    "tags": []
   },
   "outputs": [
    {
     "name": "stdout",
     "output_type": "stream",
     "text": [
      "\n",
      "\n",
      "def main():\n",
      "    a =\n"
     ]
    }
   ],
   "source": [
    "from transformers import T5ForConditionalGeneration, AutoTokenizer\n",
    "\n",
    "checkpoint = \"Salesforce/codet5p-770m\"\n",
    "model_path = \"codeT5+-model\"\n",
    "device = \"cuda\" # for GPU usage or \"cpu\" for CPU usage\n",
    "\n",
    "tokenizer = AutoTokenizer.from_pretrained(checkpoint)\n",
    "model = T5ForConditionalGeneration.from_pretrained(model_path).to(device)\n",
    "\n",
    "text = ''' \n",
    "# Summarize the sum function\n",
    "\n",
    "def sum(a, b):\n",
    "    return a + b\n",
    "'''\n",
    "\n",
    "inputs = tokenizer.encode(text, return_tensors=\"pt\").to(device)\n",
    "outputs = model.generate(inputs, max_length=10)\n",
    "print(tokenizer.decode(outputs[0], skip_special_tokens=True))\n",
    "# ==> print \"Hello World\"\n"
   ]
  },
  {
   "cell_type": "code",
   "execution_count": null,
   "id": "739ce97e-2dcc-4b41-92e1-0060955588d8",
   "metadata": {},
   "outputs": [],
   "source": []
  }
 ],
 "metadata": {
  "kernelspec": {
   "display_name": "Python 3 (ipykernel)",
   "language": "python",
   "name": "python3"
  },
  "language_info": {
   "codemirror_mode": {
    "name": "ipython",
    "version": 3
   },
   "file_extension": ".py",
   "mimetype": "text/x-python",
   "name": "python",
   "nbconvert_exporter": "python",
   "pygments_lexer": "ipython3",
   "version": "3.8.10"
  }
 },
 "nbformat": 4,
 "nbformat_minor": 5
}
